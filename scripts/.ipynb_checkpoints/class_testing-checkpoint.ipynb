{
 "cells": [
  {
   "cell_type": "code",
   "execution_count": 6,
   "metadata": {},
   "outputs": [],
   "source": [
    "import sys\n",
    "sys.path.append('/home/sysadmin/Projects/LMSA-core/src/lmsa/')\n",
    "from lmsa.manipulator.ASU import ASU_manipulator"
   ]
  },
  {
   "cell_type": "code",
   "execution_count": 3,
   "metadata": {
    "collapsed": true
   },
   "outputs": [],
   "source": [
    "from selenium import webdriver"
   ]
  },
  {
   "cell_type": "code",
   "execution_count": 11,
   "metadata": {
    "collapsed": true
   },
   "outputs": [],
   "source": [
    "driver = webdriver.Chrome('/home/sysadmin/Projects/chromedriver')"
   ]
  },
  {
   "cell_type": "code",
   "execution_count": 12,
   "metadata": {
    "collapsed": true
   },
   "outputs": [],
   "source": [
    "manip = ASU_manipulator(driver)"
   ]
  },
  {
   "cell_type": "code",
   "execution_count": 13,
   "metadata": {},
   "outputs": [
    {
     "name": "stdout",
     "output_type": "stream",
     "text": [
      "Enter ASURITE username: samccaff\n",
      "Enter ASURITE password: ········\n"
     ]
    }
   ],
   "source": [
    "manip.login()"
   ]
  },
  {
   "cell_type": "code",
   "execution_count": 14,
   "metadata": {
    "collapsed": true
   },
   "outputs": [],
   "source": [
    "manip.scan_courses()"
   ]
  },
  {
   "cell_type": "code",
   "execution_count": 15,
   "metadata": {},
   "outputs": [
    {
     "name": "stdout",
     "output_type": "stream",
     "text": [
      "{u'MASTER SITE': MASTER SITE, u'FINAL Lab Test': FINAL Lab Test, u'Submit Lab Reports': Submit Lab Reports, u'Getting Started Quiz': Getting Started Quiz, u'My Grades': My Grades, u'PRELABS': PRELABS, u'SURVEY': SURVEY, u'Staff Information': Staff Information, u'Announcements': Announcements, u'Tools': Tools}\n",
      "{u'MASTER SITE': MASTER SITE, u'FINAL Lab Test': FINAL Lab Test, u'Submit Lab Reports': Submit Lab Reports, u'Getting Started Quiz': Getting Started Quiz, u'My Grades': My Grades, u'PRELABS': PRELABS, u'SURVEY': SURVEY, u'Staff Information': Staff Information, u'Announcements': Announcements, u'Tools': Tools}\n",
      "{u'MASTER SITE': MASTER SITE, u'Submit Lab Reports': Submit Lab Reports, u'Getting Started Quiz': Getting Started Quiz, u'My Grades': My Grades, u'PRELABS': PRELABS, u'Final Lab Test 2017': Final Lab Test 2017, u'SURVEY': SURVEY, u'Staff Information': Staff Information, u'Announcements': Announcements, u'Tools': Tools}\n",
      "{u'MASTER SITE': MASTER SITE, u'FINAL Lab Test': FINAL Lab Test, u'Submit Lab Reports': Submit Lab Reports, u'Getting Started Quiz': Getting Started Quiz, u'My Grades': My Grades, u'PRELABS': PRELABS, u'SURVEY': SURVEY, u'Staff Information': Staff Information, u'Announcements': Announcements, u'Tools': Tools}\n",
      "{u'MASTER SITE': MASTER SITE, u'FINAL Lab Test': FINAL Lab Test, u'Submit Lab Reports': Submit Lab Reports, u'Getting Started Quiz': Getting Started Quiz, u'My Grades': My Grades, u'PRELABS': PRELABS, u'SURVEY': SURVEY, u'Staff Information': Staff Information, u'Announcements': Announcements, u'Tools': Tools}\n",
      "{u'MASTER SITE': MASTER SITE, u'FINAL Lab Test': FINAL Lab Test, u'Submit Lab Reports': Submit Lab Reports, u'Getting Started Quiz': Getting Started Quiz, u'My Grades': My Grades, u'PRELABS': PRELABS, u'SURVEY': SURVEY, u'Staff Information': Staff Information, u'Announcements': Announcements, u'Tools': Tools}\n",
      "{u'MASTER SITE': MASTER SITE, u'FINAL Lab Test': FINAL Lab Test, u'Submit Lab Reports': Submit Lab Reports, u'Getting Started Quiz': Getting Started Quiz, u'My Grades': My Grades, u'PRELABS': PRELABS, u'SURVEY': SURVEY, u'Staff Information': Staff Information, u'Announcements': Announcements, u'Tools': Tools}\n",
      "{u'MASTER SITE': MASTER SITE, u'Submit Lab Reports': Submit Lab Reports, u'Getting Started Quiz': Getting Started Quiz, u'My Grades': My Grades, u'PRELABS': PRELABS, u'Final Lab Test 2017': Final Lab Test 2017, u'SURVEY': SURVEY, u'Staff Information': Staff Information, u'Announcements': Announcements, u'Tools': Tools}\n",
      "{u'MASTER SITE': MASTER SITE, u'FINAL Lab Test': FINAL Lab Test, u'Submit Lab Reports': Submit Lab Reports, u'Getting Started Quiz': Getting Started Quiz, u'My Grades': My Grades, u'PRELABS': PRELABS, u'SURVEY': SURVEY, u'Staff Information': Staff Information, u'Announcements': Announcements, u'Tools': Tools}\n",
      "{u'MASTER SITE': MASTER SITE, u'FINAL Lab Test': FINAL Lab Test, u'Submit Lab Reports': Submit Lab Reports, u'Getting Started Quiz': Getting Started Quiz, u'My Grades': My Grades, u'PRELABS': PRELABS, u'SURVEY': SURVEY, u'Staff Information': Staff Information, u'Announcements': Announcements, u'Tools': Tools}\n",
      "{u'MASTER SITE': MASTER SITE, u'Submit Lab Reports': Submit Lab Reports, u'Getting Started Quiz': Getting Started Quiz, u'My Grades': My Grades, u'PRELABS': PRELABS, u'Final Lab Test 2017': Final Lab Test 2017, u'SURVEY': SURVEY, u'Staff Information': Staff Information, u'Announcements': Announcements, u'Tools': Tools}\n",
      "{u'MASTER SITE': MASTER SITE, u'FINAL Lab Test': FINAL Lab Test, u'Submit Lab Reports': Submit Lab Reports, u'Getting Started Quiz': Getting Started Quiz, u'My Grades': My Grades, u'PRELABS': PRELABS, u'SURVEY': SURVEY, u'Staff Information': Staff Information, u'Announcements': Announcements, u'Tools': Tools}\n",
      "{u'MASTER SITE': MASTER SITE, u'FINAL Lab Test': FINAL Lab Test, u'Submit Lab Reports': Submit Lab Reports, u'Getting Started Quiz': Getting Started Quiz, u'My Grades': My Grades, u'PRELABS': PRELABS, u'SURVEY': SURVEY, u'Staff Information': Staff Information, u'Announcements': Announcements, u'Tools': Tools}\n",
      "{u'MASTER SITE': MASTER SITE, u'FINAL Lab Test': FINAL Lab Test, u'Submit Lab Reports': Submit Lab Reports, u'Getting Started Quiz': Getting Started Quiz, u'My Grades': My Grades, u'PRELABS': PRELABS, u'SURVEY': SURVEY, u'Staff Information': Staff Information, u'Announcements': Announcements, u'Tools': Tools}\n",
      "{u'MASTER SITE': MASTER SITE, u'FINAL Lab Test': FINAL Lab Test, u'Submit Lab Reports': Submit Lab Reports, u'Getting Started Quiz': Getting Started Quiz, u'My Grades': My Grades, u'PRELABS': PRELABS, u'SURVEY': SURVEY, u'Staff Information': Staff Information, u'Announcements': Announcements, u'Tools': Tools}\n",
      "{u'MASTER SITE': MASTER SITE, u'Submit Lab Reports': Submit Lab Reports, u'Getting Started Quiz': Getting Started Quiz, u'My Grades': My Grades, u'PRELABS': PRELABS, u'Final Lab Test 2017': Final Lab Test 2017, u'SURVEY': SURVEY, u'Staff Information': Staff Information, u'Announcements': Announcements, u'Tools': Tools}\n",
      "{u'MASTER SITE': MASTER SITE, u'Submit Lab Reports': Submit Lab Reports, u'Getting Started Quiz': Getting Started Quiz, u'My Grades': My Grades, u'PRELABS': PRELABS, u'Final Lab Test 2017': Final Lab Test 2017, u'SURVEY': SURVEY, u'Staff Information': Staff Information, u'Announcements': Announcements, u'Tools': Tools}\n",
      "{u'MASTER SITE': MASTER SITE, u'FINAL Lab Test': FINAL Lab Test, u'Submit Lab Reports': Submit Lab Reports, u'Getting Started Quiz': Getting Started Quiz, u'My Grades': My Grades, u'PRELABS': PRELABS, u'SURVEY': SURVEY, u'Staff Information': Staff Information, u'Announcements': Announcements, u'Tools': Tools}\n",
      "{u'MASTER SITE': MASTER SITE, u'FINAL Lab Test': FINAL Lab Test, u'Submit Lab Reports': Submit Lab Reports, u'Getting Started Quiz': Getting Started Quiz, u'My Grades': My Grades, u'PRELABS': PRELABS, u'SURVEY': SURVEY, u'Staff Information': Staff Information, u'Announcements': Announcements, u'Tools': Tools}\n",
      "{u'MASTER SITE': MASTER SITE, u'FINAL Lab Test': FINAL Lab Test, u'Submit Lab Reports': Submit Lab Reports, u'Getting Started Quiz': Getting Started Quiz, u'My Grades': My Grades, u'PRELABS': PRELABS, u'SURVEY': SURVEY, u'Staff Information': Staff Information, u'Announcements': Announcements, u'Tools': Tools}\n",
      "{u'MASTER SITE': MASTER SITE, u'FINAL Lab Test': FINAL Lab Test, u'Submit Lab Reports': Submit Lab Reports, u'Getting Started Quiz': Getting Started Quiz, u'My Grades': My Grades, u'PRELABS': PRELABS, u'SURVEY': SURVEY, u'Staff Information': Staff Information, u'Announcements': Announcements, u'Tools': Tools}\n",
      "{u'MASTER SITE': MASTER SITE, u'FINAL Lab Test': FINAL Lab Test, u'Submit Lab Reports': Submit Lab Reports, u'Getting Started Quiz': Getting Started Quiz, u'My Grades': My Grades, u'PRELABS': PRELABS, u'SURVEY': SURVEY, u'Staff Information': Staff Information, u'Announcements': Announcements, u'Tools': Tools}\n",
      "{u'MASTER SITE': MASTER SITE, u'FINAL Lab Test': FINAL Lab Test, u'Submit Lab Reports': Submit Lab Reports, u'Getting Started Quiz': Getting Started Quiz, u'My Grades': My Grades, u'PRELABS': PRELABS, u'SURVEY': SURVEY, u'Staff Information': Staff Information, u'Announcements': Announcements, u'Tools': Tools}\n",
      "{u'MASTER SITE': MASTER SITE, u'FINAL Lab Test': FINAL Lab Test, u'Submit Lab Reports': Submit Lab Reports, u'Getting Started Quiz': Getting Started Quiz, u'My Grades': My Grades, u'PRELABS': PRELABS, u'SURVEY': SURVEY, u'Staff Information': Staff Information, u'Announcements': Announcements, u'Tools': Tools}\n",
      "{u'MASTER SITE': MASTER SITE, u'FINAL Lab Test': FINAL Lab Test, u'Submit Lab Reports': Submit Lab Reports, u'Getting Started Quiz': Getting Started Quiz, u'My Grades': My Grades, u'PRELABS': PRELABS, u'SURVEY': SURVEY, u'Staff Information': Staff Information, u'Announcements': Announcements, u'Tools': Tools}\n",
      "{u'MASTER SITE': MASTER SITE, u'FINAL Lab Test': FINAL Lab Test, u'Submit Lab Reports': Submit Lab Reports, u'Getting Started Quiz': Getting Started Quiz, u'My Grades': My Grades, u'PRELABS': PRELABS, u'SURVEY': SURVEY, u'Staff Information': Staff Information, u'Announcements': Announcements, u'Tools': Tools}\n",
      "{u'MASTER SITE': MASTER SITE, u'FINAL Lab Test': FINAL Lab Test, u'Submit Lab Reports': Submit Lab Reports, u'Getting Started Quiz': Getting Started Quiz, u'My Grades': My Grades, u'PRELABS': PRELABS, u'SURVEY': SURVEY, u'Staff Information': Staff Information, u'Announcements': Announcements, u'Tools': Tools}\n",
      "{u'MASTER SITE': MASTER SITE, u'FINAL Lab Test': FINAL Lab Test, u'Submit Lab Reports': Submit Lab Reports, u'Getting Started Quiz': Getting Started Quiz, u'My Grades': My Grades, u'PRELABS': PRELABS, u'SURVEY': SURVEY, u'Staff Information': Staff Information, u'Announcements': Announcements, u'Tools': Tools}\n",
      "{u'MASTER SITE': MASTER SITE, u'Submit Lab Reports': Submit Lab Reports, u'Getting Started Quiz': Getting Started Quiz, u'My Grades': My Grades, u'PRELABS': PRELABS, u'Final Lab Test 2017': Final Lab Test 2017, u'SURVEY': SURVEY, u'Staff Information': Staff Information, u'Announcements': Announcements, u'Tools': Tools}\n",
      "{u'MASTER SITE': MASTER SITE, u'FINAL Lab Test': FINAL Lab Test, u'Submit Lab Reports': Submit Lab Reports, u'Getting Started Quiz': Getting Started Quiz, u'My Grades': My Grades, u'PRELABS': PRELABS, u'SURVEY': SURVEY, u'Staff Information': Staff Information, u'Announcements': Announcements, u'Tools': Tools}\n",
      "{u'MASTER SITE': MASTER SITE, u'Submit Lab Reports': Submit Lab Reports, u'Getting Started Quiz': Getting Started Quiz, u'My Grades': My Grades, u'PRELABS': PRELABS, u'Final Lab Test 2017': Final Lab Test 2017, u'SURVEY': SURVEY, u'Staff Information': Staff Information, u'Announcements': Announcements, u'Tools': Tools}\n",
      "{u'MASTER SITE': MASTER SITE, u'FINAL Lab Test': FINAL Lab Test, u'Submit Lab Reports': Submit Lab Reports, u'Getting Started Quiz': Getting Started Quiz, u'My Grades': My Grades, u'PRELABS': PRELABS, u'SURVEY': SURVEY, u'Staff Information': Staff Information, u'Announcements': Announcements, u'Tools': Tools}\n",
      "{u'MASTER SITE': MASTER SITE, u'Submit Lab Reports': Submit Lab Reports, u'Getting Started Quiz': Getting Started Quiz, u'My Grades': My Grades, u'PRELABS': PRELABS, u'Final Lab Test 2017': Final Lab Test 2017, u'SURVEY': SURVEY, u'Staff Information': Staff Information, u'Announcements': Announcements, u'Tools': Tools}\n",
      "{u'MASTER SITE': MASTER SITE, u'FINAL Lab Test': FINAL Lab Test, u'Submit Lab Reports': Submit Lab Reports, u'Getting Started Quiz': Getting Started Quiz, u'My Grades': My Grades, u'PRELABS': PRELABS, u'SURVEY': SURVEY, u'Staff Information': Staff Information, u'Announcements': Announcements, u'Tools': Tools}\n",
      "{u'MASTER SITE': MASTER SITE, u'FINAL Lab Test': FINAL Lab Test, u'Submit Lab Reports': Submit Lab Reports, u'Getting Started Quiz': Getting Started Quiz, u'My Grades': My Grades, u'PRELABS': PRELABS, u'SURVEY': SURVEY, u'Staff Information': Staff Information, u'Announcements': Announcements, u'Tools': Tools}\n",
      "{u'MASTER SITE': MASTER SITE, u'Submit Lab Reports': Submit Lab Reports, u'Getting Started Quiz': Getting Started Quiz, u'My Grades': My Grades, u'PRELABS': PRELABS, u'Final Lab Test 2017': Final Lab Test 2017, u'SURVEY': SURVEY, u'Staff Information': Staff Information, u'Announcements': Announcements, u'Tools': Tools}\n",
      "{u'MASTER SITE': MASTER SITE, u'FINAL Lab Test': FINAL Lab Test, u'Submit Lab Reports': Submit Lab Reports, u'Getting Started Quiz': Getting Started Quiz, u'My Grades': My Grades, u'PRELABS': PRELABS, u'SURVEY': SURVEY, u'Staff Information': Staff Information, u'Announcements': Announcements, u'Tools': Tools}\n",
      "{u'MASTER SITE': MASTER SITE, u'FINAL Lab Test': FINAL Lab Test, u'Submit Lab Reports': Submit Lab Reports, u'Getting Started Quiz': Getting Started Quiz, u'My Grades': My Grades, u'PRELABS': PRELABS, u'SURVEY': SURVEY, u'Staff Information': Staff Information, u'Announcements': Announcements, u'Tools': Tools}\n",
      "{u'MASTER SITE': MASTER SITE, u'FINAL Lab Test': FINAL Lab Test, u'Submit Lab Reports': Submit Lab Reports, u'Getting Started Quiz': Getting Started Quiz, u'My Grades': My Grades, u'PRELABS': PRELABS, u'SURVEY': SURVEY, u'Staff Information': Staff Information, u'Announcements': Announcements, u'Tools': Tools}\n",
      "{u'MASTER SITE': MASTER SITE, u'FINAL Lab Test': FINAL Lab Test, u'Submit Lab Reports': Submit Lab Reports, u'Getting Started Quiz': Getting Started Quiz, u'My Grades': My Grades, u'PRELABS': PRELABS, u'SURVEY': SURVEY, u'Staff Information': Staff Information, u'Announcements': Announcements, u'Tools': Tools}\n",
      "{u'MASTER SITE': MASTER SITE, u'FINAL Lab Test': FINAL Lab Test, u'Submit Lab Reports': Submit Lab Reports, u'Getting Started Quiz': Getting Started Quiz, u'My Grades': My Grades, u'PRELABS': PRELABS, u'SURVEY': SURVEY, u'Staff Information': Staff Information, u'Announcements': Announcements, u'Tools': Tools}\n",
      "{u'MASTER SITE': MASTER SITE, u'Submit Lab Reports': Submit Lab Reports, u'Getting Started Quiz': Getting Started Quiz, u'My Grades': My Grades, u'PRELABS': PRELABS, u'Final Lab Test 2017': Final Lab Test 2017, u'SURVEY': SURVEY, u'Staff Information': Staff Information, u'Announcements': Announcements, u'Tools': Tools}\n",
      "{u'MASTER SITE': MASTER SITE, u'FINAL Lab Test': FINAL Lab Test, u'Submit Lab Reports': Submit Lab Reports, u'Getting Started Quiz': Getting Started Quiz, u'My Grades': My Grades, u'PRELABS': PRELABS, u'SURVEY': SURVEY, u'Staff Information': Staff Information, u'Announcements': Announcements, u'Tools': Tools}\n",
      "{u'MASTER SITE': MASTER SITE, u'FINAL Lab Test': FINAL Lab Test, u'Submit Lab Reports': Submit Lab Reports, u'Getting Started Quiz': Getting Started Quiz, u'My Grades': My Grades, u'PRELABS': PRELABS, u'SURVEY': SURVEY, u'Staff Information': Staff Information, u'Announcements': Announcements, u'Tools': Tools}\n",
      "{u'MASTER SITE': MASTER SITE, u'FINAL Lab Test': FINAL Lab Test, u'Submit Lab Reports': Submit Lab Reports, u'Getting Started Quiz': Getting Started Quiz, u'My Grades': My Grades, u'PRELABS': PRELABS, u'SURVEY': SURVEY, u'Staff Information': Staff Information, u'Announcements': Announcements, u'Tools': Tools}\n",
      "{u'MASTER SITE': MASTER SITE, u'Submit Lab Reports': Submit Lab Reports, u'Getting Started Quiz': Getting Started Quiz, u'My Grades': My Grades, u'PRELABS': PRELABS, u'Final Lab Test 2017': Final Lab Test 2017, u'SURVEY': SURVEY, u'Staff Information': Staff Information, u'Announcements': Announcements, u'Tools': Tools}\n",
      "{u'MASTER SITE': MASTER SITE, u'FINAL Lab Test': FINAL Lab Test, u'Submit Lab Reports': Submit Lab Reports, u'Getting Started Quiz': Getting Started Quiz, u'My Grades': My Grades, u'PRELABS': PRELABS, u'SURVEY': SURVEY, u'Staff Information': Staff Information, u'Announcements': Announcements, u'Tools': Tools}\n",
      "{u'FINAL Lab Test': FINAL Lab Test, u'Submit Lab Reports': Submit Lab Reports, u'Getting Started Quiz': Getting Started Quiz, u'My Grades': My Grades, u'PRELABS': PRELABS, u'MASTER SITE old': MASTER SITE old, u'SURVEY': SURVEY, u'Staff Information': Staff Information, u'Announcements': Announcements, u'Tools': Tools}\n",
      "{u'MASTER SITE': MASTER SITE, u'FINAL Lab Test': FINAL Lab Test, u'Submit Lab Reports': Submit Lab Reports, u'Getting Started Quiz': Getting Started Quiz, u'My Grades': My Grades, u'PRELABS': PRELABS, u'SURVEY': SURVEY, u'Staff Information': Staff Information, u'Announcements': Announcements, u'Tools': Tools}\n",
      "{u'MASTER SITE': MASTER SITE, u'FINAL Lab Test': FINAL Lab Test, u'Submit Lab Reports': Submit Lab Reports, u'Getting Started Quiz': Getting Started Quiz, u'My Grades': My Grades, u'PRELABS': PRELABS, u'SURVEY': SURVEY, u'Staff Information': Staff Information, u'Announcements': Announcements, u'Tools': Tools}\n",
      "{u'MASTER SITE': MASTER SITE, u'FINAL Lab Test': FINAL Lab Test, u'Submit Lab Reports': Submit Lab Reports, u'Getting Started Quiz': Getting Started Quiz, u'My Grades': My Grades, u'PRELABS': PRELABS, u'SURVEY': SURVEY, u'Staff Information': Staff Information, u'Announcements': Announcements, u'Tools': Tools}\n",
      "{u'MASTER SITE': MASTER SITE, u'FINAL Lab Test': FINAL Lab Test, u'Submit Lab Reports': Submit Lab Reports, u'Getting Started Quiz': Getting Started Quiz, u'My Grades': My Grades, u'PRELABS': PRELABS, u'SURVEY': SURVEY, u'Staff Information': Staff Information, u'Announcements': Announcements, u'Tools': Tools}\n",
      "{u'MASTER SITE': MASTER SITE, u'FINAL Lab Test': FINAL Lab Test, u'Submit Lab Reports': Submit Lab Reports, u'Getting Started Quiz': Getting Started Quiz, u'My Grades': My Grades, u'PRELABS': PRELABS, u'SURVEY': SURVEY, u'Staff Information': Staff Information, u'Announcements': Announcements, u'Tools': Tools}\n",
      "{u'MASTER SITE': MASTER SITE, u'FINAL Lab Test': FINAL Lab Test, u'Submit Lab Reports': Submit Lab Reports, u'Getting Started Quiz': Getting Started Quiz, u'My Grades': My Grades, u'PRELABS': PRELABS, u'SURVEY': SURVEY, u'Staff Information': Staff Information, u'Announcements': Announcements, u'Tools': Tools}\n",
      "{u'MASTER SITE': MASTER SITE, u'Submit Lab Reports': Submit Lab Reports, u'Getting Started Quiz': Getting Started Quiz, u'My Grades': My Grades, u'PRELABS': PRELABS, u'Final Lab Test 2017': Final Lab Test 2017, u'SURVEY': SURVEY, u'Staff Information': Staff Information, u'Announcements': Announcements, u'Tools': Tools}\n",
      "{u'MASTER SITE': MASTER SITE, u'FINAL Lab Test': FINAL Lab Test, u'Submit Lab Reports': Submit Lab Reports, u'Getting Started Quiz': Getting Started Quiz, u'My Grades': My Grades, u'PRELABS': PRELABS, u'SURVEY': SURVEY, u'Staff Information': Staff Information, u'Announcements': Announcements, u'Tools': Tools}\n"
     ]
    }
   ],
   "source": [
    "for c in manip.lms.courses.keys():\n",
    "    course = manip.lms.courses[c]\n",
    "    print(course.sections)"
   ]
  },
  {
   "cell_type": "code",
   "execution_count": null,
   "metadata": {
    "collapsed": true
   },
   "outputs": [],
   "source": []
  }
 ],
 "metadata": {
  "kernelspec": {
   "display_name": "Python 2",
   "language": "python",
   "name": "python2"
  },
  "language_info": {
   "codemirror_mode": {
    "name": "ipython",
    "version": 2
   },
   "file_extension": ".py",
   "mimetype": "text/x-python",
   "name": "python",
   "nbconvert_exporter": "python",
   "pygments_lexer": "ipython2",
   "version": "2.7.12"
  }
 },
 "nbformat": 4,
 "nbformat_minor": 2
}
